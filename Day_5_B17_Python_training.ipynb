{
 "cells": [
  {
   "cell_type": "code",
   "execution_count": 1,
   "metadata": {},
   "outputs": [
    {
     "name": "stdout",
     "output_type": "stream",
     "text": [
      "['bhavani', 'vamsi', 'ravali', 'suresh', 'tanusri', 'aleem']\n"
     ]
    },
    {
     "data": {
      "text/plain": [
       "list"
      ]
     },
     "execution_count": 1,
     "metadata": {},
     "output_type": "execute_result"
    }
   ],
   "source": [
    "#loops\n",
    "my_students =['bhavani','vamsi','ravali','suresh','tanusri','aleem']\n",
    "print(my_students)\n",
    "type(my_students)"
   ]
  },
  {
   "cell_type": "code",
   "execution_count": 2,
   "metadata": {},
   "outputs": [
    {
     "name": "stdout",
     "output_type": "stream",
     "text": [
      " keep up the good work,bhavani\n"
     ]
    }
   ],
   "source": [
    "#Rer 1 : Appreciate all ==> \"keep up the good work\"\n",
    "print(f\" keep up the good work,{my_students[0]}\")"
   ]
  },
  {
   "cell_type": "code",
   "execution_count": 3,
   "metadata": {},
   "outputs": [
    {
     "name": "stdout",
     "output_type": "stream",
     "text": [
      " keep up the good work,Bhavani\n"
     ]
    }
   ],
   "source": [
    "print(f\" keep up the good work,{my_students[0].title()}\")"
   ]
  },
  {
   "cell_type": "code",
   "execution_count": null,
   "metadata": {},
   "outputs": [],
   "source": [
    "#using tempvar and mainvar\n",
    "for tempvar in mainvar:\n",
    "    print(tempvar)"
   ]
  },
  {
   "cell_type": "code",
   "execution_count": 6,
   "metadata": {},
   "outputs": [
    {
     "name": "stdout",
     "output_type": "stream",
     "text": [
      "bhavani\n",
      "vamsi\n",
      "ravali\n",
      "suresh\n",
      "tanusri\n",
      "aleem\n"
     ]
    }
   ],
   "source": [
    "for student in my_students:\n",
    "    print(student)"
   ]
  },
  {
   "cell_type": "code",
   "execution_count": 7,
   "metadata": {},
   "outputs": [
    {
     "name": "stdout",
     "output_type": "stream",
     "text": [
      "keep up the good work,bhavani\n",
      "keep up the good work,vamsi\n",
      "keep up the good work,ravali\n",
      "keep up the good work,suresh\n",
      "keep up the good work,tanusri\n",
      "keep up the good work,aleem\n"
     ]
    }
   ],
   "source": [
    "for student in my_students:\n",
    "    print(f\"keep up the good work,{student}\")"
   ]
  },
  {
   "cell_type": "code",
   "execution_count": 12,
   "metadata": {},
   "outputs": [
    {
     "name": "stdout",
     "output_type": "stream",
     "text": [
      " I am looking forward to receive your practive file,bhavani\n",
      " I am looking forward to receive your practive file,vamsi\n",
      " I am looking forward to receive your practive file,ravali\n",
      " I am looking forward to receive your practive file,suresh\n",
      " I am looking forward to receive your practive file,tanusri\n",
      " I am looking forward to receive your practive file,aleem\n"
     ]
    }
   ],
   "source": [
    "#Req 2: \" I am looking forward to receive your practive file\"\n",
    "for student in my_students:\n",
    "    print(f\" I am looking forward to receive your practive file,{student}\")"
   ]
  },
  {
   "cell_type": "code",
   "execution_count": 14,
   "metadata": {},
   "outputs": [
    {
     "name": "stdout",
     "output_type": "stream",
     "text": [
      " I am looking forward to receive your practive file,Bhavani, \n",
      "\n",
      " I am looking forward to receive your practive file,Vamsi, \n",
      "\n",
      " I am looking forward to receive your practive file,Ravali, \n",
      "\n",
      " I am looking forward to receive your practive file,Suresh, \n",
      "\n",
      " I am looking forward to receive your practive file,Tanusri, \n",
      "\n",
      " I am looking forward to receive your practive file,Aleem, \n",
      "\n"
     ]
    }
   ],
   "source": [
    "#Further enhancement to new line using title tab & new line\\n\n",
    "for student in my_students:\n",
    "    print(f\" I am looking forward to receive your practive file,{student.title()}, \\n\")"
   ]
  },
  {
   "cell_type": "code",
   "execution_count": 16,
   "metadata": {},
   "outputs": [
    {
     "name": "stdout",
     "output_type": "stream",
     "text": [
      " I am looking forward to receive your practive file,Bhavani, \n",
      "\n",
      " I am looking forward to receive your practive file,Vamsi, \n",
      "\n",
      " I am looking forward to receive your practive file,Ravali, \n",
      "\n",
      " I am looking forward to receive your practive file,Suresh, \n",
      "\n",
      " I am looking forward to receive your practive file,Tanusri, \n",
      "\n",
      " I am looking forward to receive your practive file,Aleem, \n",
      "\n",
      "Thank you note for showing interest in learning python\n"
     ]
    }
   ],
   "source": [
    "#Req 3 = \"Give thank you note for showing interest in learning python\"\n",
    "for student in my_students:\n",
    "    print(f\" I am looking forward to receive your practive file,{student.title()}, \\n\")\n",
    "print(\"Thank you note for showing interest in learning python\")"
   ]
  },
  {
   "cell_type": "code",
   "execution_count": 20,
   "metadata": {},
   "outputs": [
    {
     "name": "stdout",
     "output_type": "stream",
     "text": [
      "['audi', 'bmw', 'tata', 'toyata', 'benz', 'honda']\n"
     ]
    }
   ],
   "source": [
    "# Introduction to \"if\" conditions\n",
    "\n",
    "cars=['audi','bmw','tata','toyata','benz','honda']\n",
    "print(cars)"
   ]
  },
  {
   "cell_type": "code",
   "execution_count": 21,
   "metadata": {},
   "outputs": [
    {
     "name": "stdout",
     "output_type": "stream",
     "text": [
      "Audi\n",
      "BMW\n",
      "Tata\n",
      "Toyata\n",
      "Benz\n",
      "Honda\n"
     ]
    }
   ],
   "source": [
    "#Req1 === \"if it is bmw should be printed as caps and rest all in title case\"\n",
    "for car in cars:\n",
    "    if car =='bmw':\n",
    "        print(car.upper())\n",
    "    else:\n",
    "        print(car.title())"
   ]
  },
  {
   "cell_type": "code",
   "execution_count": null,
   "metadata": {},
   "outputs": [],
   "source": []
  }
 ],
 "metadata": {
  "kernelspec": {
   "display_name": "Python 3",
   "language": "python",
   "name": "python3"
  },
  "language_info": {
   "codemirror_mode": {
    "name": "ipython",
    "version": 3
   },
   "file_extension": ".py",
   "mimetype": "text/x-python",
   "name": "python",
   "nbconvert_exporter": "python",
   "pygments_lexer": "ipython3",
   "version": "3.7.6"
  }
 },
 "nbformat": 4,
 "nbformat_minor": 4
}
