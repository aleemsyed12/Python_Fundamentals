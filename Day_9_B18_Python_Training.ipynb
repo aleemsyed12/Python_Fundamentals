{
 "cells": [
  {
   "cell_type": "code",
   "execution_count": 3,
   "metadata": {},
   "outputs": [
    {
     "name": "stdout",
     "output_type": "stream",
     "text": [
      "{'f_name': 'code', 'l_name': 'training', 'username': 'codetraining1', 'pwd': 'abcd', 'dob': '01-01-2019'}\n"
     ]
    }
   ],
   "source": [
    "#Create a sample dictionary\n",
    "\n",
    "\n",
    "user1 = {'f_name':'code','l_name':'training','username':'codetraining1','pwd':'abcd','dob':'01-01-2019'}\n",
    "print(user1)"
   ]
  },
  {
   "cell_type": "code",
   "execution_count": 4,
   "metadata": {},
   "outputs": [
    {
     "name": "stdout",
     "output_type": "stream",
     "text": [
      "key:f_name\n",
      "value:code\n",
      "key:l_name\n",
      "value:training\n",
      "key:username\n",
      "value:codetraining1\n",
      "key:pwd\n",
      "value:abcd\n",
      "key:dob\n",
      "value:01-01-2019\n"
     ]
    }
   ],
   "source": [
    "#Looping through Dictionary ====> \n",
    "\n",
    "for key,value in user1.items():\n",
    "    print(f'key:{key}')\n",
    "    print(f'value:{value}')"
   ]
  },
  {
   "cell_type": "code",
   "execution_count": 6,
   "metadata": {},
   "outputs": [
    {
     "name": "stdout",
     "output_type": "stream",
     "text": [
      "key:f_name\n",
      "value:code\n",
      "key:l_name\n",
      "value:training\n",
      "key:username\n",
      "value:codetraining1\n",
      "key:pwd\n",
      "value:abcd\n",
      "key:dob\n",
      "value:01-01-2019\n"
     ]
    }
   ],
   "source": [
    "# Use tem var 'x' for key & 'y' for value\n",
    "for x,y in user1.items():\n",
    "    print(f'key:{x}')\n",
    "    print(f'value:{y}')"
   ]
  },
  {
   "cell_type": "code",
   "execution_count": 7,
   "metadata": {},
   "outputs": [
    {
     "name": "stdout",
     "output_type": "stream",
     "text": [
      "\n",
      "key:f_name\n",
      "\n",
      "value:code\n",
      "\n",
      "key:l_name\n",
      "\n",
      "value:training\n",
      "\n",
      "key:username\n",
      "\n",
      "value:codetraining1\n",
      "\n",
      "key:pwd\n",
      "\n",
      "value:abcd\n",
      "\n",
      "key:dob\n",
      "\n",
      "value:01-01-2019\n"
     ]
    }
   ],
   "source": [
    "# Enhancement of the code by adding new lines to the OP.\n",
    "\n",
    "for x,y in user1.items():\n",
    "    print(f'\\nkey:{x}')\n",
    "    print(f'\\nvalue:{y}')"
   ]
  },
  {
   "cell_type": "code",
   "execution_count": 9,
   "metadata": {},
   "outputs": [
    {
     "name": "stdout",
     "output_type": "stream",
     "text": [
      "f_name\n",
      "l_name\n",
      "username\n",
      "pwd\n",
      "dob\n"
     ]
    }
   ],
   "source": [
    "# Req 1 : Get only keys in the OutPut\n",
    "\n",
    "for a in user1.keys():\n",
    "    print(a)"
   ]
  },
  {
   "cell_type": "code",
   "execution_count": 12,
   "metadata": {},
   "outputs": [
    {
     "name": "stdout",
     "output_type": "stream",
     "text": [
      "code\n",
      "training\n",
      "codetraining1\n",
      "abcd\n",
      "01-01-2019\n"
     ]
    }
   ],
   "source": [
    "# Req 2 : Get only values in the Output\n",
    "\n",
    "for b in user1.values():\n",
    "    print(b)"
   ]
  },
  {
   "cell_type": "code",
   "execution_count": 13,
   "metadata": {},
   "outputs": [
    {
     "name": "stdout",
     "output_type": "stream",
     "text": [
      "{'ashok': 'c', 'ravali': 'python', 'satya': 'pascal', 'suresh': 'python', 'devi': 'cobal'}\n"
     ]
    }
   ],
   "source": [
    "#Req 3 : Conduct survey for a group of students to know the favourite language.\n",
    "\n",
    "fav_language = {'ashok':'c','ravali':'python','satya':'pascal','suresh':'python','devi':'cobal'}\n",
    "print(fav_language)"
   ]
  },
  {
   "cell_type": "code",
   "execution_count": 14,
   "metadata": {},
   "outputs": [
    {
     "data": {
      "text/plain": [
       "dict"
      ]
     },
     "execution_count": 14,
     "metadata": {},
     "output_type": "execute_result"
    }
   ],
   "source": [
    "type(fav_language)"
   ]
  },
  {
   "cell_type": "code",
   "execution_count": 18,
   "metadata": {},
   "outputs": [
    {
     "name": "stdout",
     "output_type": "stream",
     "text": [
      "Ashok's favourite lanuage is C.\n",
      "Ravali's favourite lanuage is Python.\n",
      "Satya's favourite lanuage is Pascal.\n",
      "Suresh's favourite lanuage is Python.\n",
      "Devi's favourite lanuage is Cobal.\n"
     ]
    }
   ],
   "source": [
    "# Display the results of each student for name and language in the dic.\n",
    "\n",
    "for name, language in fav_language.items():\n",
    "    print(f\"{name.title()}'s favourite lanuage is {language.title()}.\")"
   ]
  },
  {
   "cell_type": "code",
   "execution_count": null,
   "metadata": {},
   "outputs": [],
   "source": []
  }
 ],
 "metadata": {
  "kernelspec": {
   "display_name": "Python 3",
   "language": "python",
   "name": "python3"
  },
  "language_info": {
   "codemirror_mode": {
    "name": "ipython",
    "version": 3
   },
   "file_extension": ".py",
   "mimetype": "text/x-python",
   "name": "python",
   "nbconvert_exporter": "python",
   "pygments_lexer": "ipython3",
   "version": "3.7.6"
  }
 },
 "nbformat": 4,
 "nbformat_minor": 4
}
